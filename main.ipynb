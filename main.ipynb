{
 "cells": [
  {
   "cell_type": "code",
   "execution_count": 10,
   "id": "ab830981",
   "metadata": {},
   "outputs": [],
   "source": [
    "import pandas as pd\n",
    "import numpy as np\n",
    "import importlib\n",
    "import time\n",
    "import os\n",
    "import warnings\n",
    "warnings.filterwarnings(\"ignore\")  # Oculta todos los warnings\n",
    "\n",
    "# Mis modulos\n",
    "import get_data as gd"
   ]
  },
  {
   "cell_type": "code",
   "execution_count": null,
   "id": "cc4e4416",
   "metadata": {},
   "outputs": [
    {
     "name": "stdout",
     "output_type": "stream",
     "text": [
      "\n",
      "    _         _                       _           ____ ___  ____  ____  \n",
      "   / \\  _   _| |_ _____   _____ _ __ | |_ __ _   / ___/ _ \\|  _ \\|  _ \\ \n",
      "  / _ \\| | | | __/ _ \\ \\ / / _ \\ '_ \\| __/ _` | | |  | | | | |_) | |_) |\n",
      " / ___ \\ |_| | || (_) \\ V /  __/ | | | || (_| | | |__| |_| |  _ <|  __/ \n",
      "/_/   \\_\\__,_|\\__\\___/ \\_/ \\___|_| |_|\\__\\__,_|  \\____\\___/|_| \\_\\_|                                                                          \n",
      "\n",
      "          💥 AUTOMATIZADOR DE FORMATO AUTOVENTA CORPORATIVO 💥\n",
      "\n",
      "\n"
     ]
    }
   ],
   "source": [
    "# import pyfiglet\n",
    "# print(pyfiglet.figlet_format(\"Autoventa CORP\"))\n",
    "\n",
    "banner = r\"\"\"\n",
    "    _         _                       _           ____ ___  ____  ____  \n",
    "   / \\  _   _| |_ _____   _____ _ __ | |_ __ _   / ___/ _ \\|  _ \\|  _ \\ \n",
    "  / _ \\| | | | __/ _ \\ \\ / / _ \\ '_ \\| __/ _` | | |  | | | | |_) | |_) |\n",
    " / ___ \\ |_| | || (_) \\ V /  __/ | | | || (_| | | |__| |_| |  _ <|  __/ \n",
    "/_/   \\_\\__,_|\\__\\___/ \\_/ \\___|_| |_|\\__\\__,_|  \\____\\___/|_| \\_\\_|                                                                          \n",
    "\n",
    "         💥 AUTOMATIZADOR DE FORMATO AUTOVENTA CORPORATIVO 💥\n",
    "\"\"\"\n",
    "\n",
    "print(banner, end='\\n\\n')\n",
    "time.sleep(1)"
   ]
  },
  {
   "cell_type": "code",
   "execution_count": 12,
   "id": "536b6dd6",
   "metadata": {},
   "outputs": [],
   "source": [
    "# Variables de configuracion\n",
    "PROJECT_ADDRESS = os.getcwd()\n",
    "\n",
    "# Diccionarios\n",
    "FILE_PROPERTIES = {\n",
    "    'name': os.path.join(PROJECT_ADDRESS, 'query.xlsx'),\n",
    "    'sheet_name': 'AutovtaSUR',\n",
    "}\n",
    "tablas_por_locacion = {} # Guardar los DataFrames por Locacion\n",
    "\n",
    "# Listas\n",
    "LOCACIONES = ['06 AYA EL PEDREGAL', '40 AYA CHALA', '88 AYA CAMANA']"
   ]
  },
  {
   "cell_type": "code",
   "execution_count": 15,
   "id": "e80e6fc2",
   "metadata": {},
   "outputs": [
    {
     "name": "stdout",
     "output_type": "stream",
     "text": [
      "<class 'pandas.core.frame.DataFrame'>\n",
      "Index: 1675 entries, 0 to 18349\n",
      "Data columns (total 4 columns):\n",
      " #   Column                   Non-Null Count  Dtype \n",
      "---  ------                   --------------  ----- \n",
      " 0   Locación                 1675 non-null   object\n",
      " 1   Día                      1675 non-null   object\n",
      " 2   Texto Breve de Producto  1675 non-null   object\n",
      " 3   Volumen CF               1675 non-null   object\n",
      "dtypes: object(4)\n",
      "memory usage: 65.4+ KB\n",
      "None\n"
     ]
    }
   ],
   "source": [
    "importlib.reload(gd)\n",
    "\n",
    "df_corp = gd.main(FILE_PROPERTIES, LOCACIONES)\n",
    "print(df_corp.info())"
   ]
  },
  {
   "cell_type": "code",
   "execution_count": 16,
   "id": "7ab16e47",
   "metadata": {},
   "outputs": [],
   "source": [
    "# Obtener FECHAS y PRODUCTOS\n",
    "FECHAS = sorted(df_corp[\"Día\"].unique())\n",
    "PRODUCTOS = df_corp[\"Texto Breve de Producto\"].unique()"
   ]
  },
  {
   "cell_type": "code",
   "execution_count": null,
   "id": "b5d364d3",
   "metadata": {},
   "outputs": [],
   "source": [
    "# Agrupar por Locacion\n",
    "for locacion in df_corp[\"Locación\"].unique():\n",
    "    df_loc = df_corp[df_corp[\"Locación\"] == locacion]\n",
    "\n",
    "    # Pivotear para que las FECHAS sean columnas\n",
    "    tabla = df_loc.pivot_table(\n",
    "        index=\"Texto Breve de Producto\",\n",
    "        columns=df_loc[\"Día\"],\n",
    "        values=\"Volumen CF\",\n",
    "        aggfunc=\"sum\",\n",
    "        fill_value=0\n",
    "    )\n",
    "\n",
    "    # Asegurar que estén todas las FECHAS y PRODUCTOS (incluso si no hubo volumen)\n",
    "    tabla = tabla.reindex(index=PRODUCTOS, columns=FECHAS, fill_value=0)\n",
    "\n",
    "    # ❌ Elimina las filas donde el producto no tenga volumen en ninguna fecha\n",
    "    tabla = tabla.loc[~(tabla == 0).all(axis=1)]\n",
    "\n",
    "    tablas_por_locacion[locacion] = tabla"
   ]
  },
  {
   "cell_type": "code",
   "execution_count": null,
   "id": "8ff3e3d3",
   "metadata": {},
   "outputs": [],
   "source": [
    "# Guardar las tablas por separado con separador ;\n",
    "with open(os.path.join(PROJECT_ADDRESS, \"query.csv\"), \"w\", encoding=\"utf-8-sig\", newline='') as f:\n",
    "    for loc, tabla in tablas_por_locacion.items():\n",
    "        f.write(f\"{loc}\\n\")  # Escribe el nombre de la locación\n",
    "        tabla_reset = tabla.reset_index()\n",
    "        tabla_reset.to_csv(f, index=False, sep=\";\")  # <--- separador punto y coma\n",
    "        f.write(\"\\n\")"
   ]
  },
  {
   "cell_type": "markdown",
   "id": "2d23b6d9",
   "metadata": {},
   "source": [
    "### Export it as .py"
   ]
  },
  {
   "cell_type": "code",
   "execution_count": 21,
   "id": "77ea7898",
   "metadata": {},
   "outputs": [
    {
     "name": "stdout",
     "output_type": "stream",
     "text": [
      "✅ Archivo .py creado sin la última celda.\n"
     ]
    }
   ],
   "source": [
    "import nbformat\n",
    "from nbconvert import PythonExporter\n",
    "\n",
    "# Cargar el notebook\n",
    "notebook_path = \"main.ipynb\"\n",
    "with open(notebook_path, \"r\", encoding=\"utf-8\") as f:\n",
    "    nb = nbformat.read(f, as_version=4)\n",
    "\n",
    "# Eliminar la última celda\n",
    "nb['cells'] = nb['cells'][:-1]\n",
    "\n",
    "# Convertir a script .py\n",
    "exporter = PythonExporter()\n",
    "codigo_python, _ = exporter.from_notebook_node(nb)\n",
    "\n",
    "# Guardar el archivo .py\n",
    "with open(\"main.py\", \"w\", encoding=\"utf-8\") as f:\n",
    "    f.write(codigo_python)\n",
    "\n",
    "print(\"✅ Archivo .py creado sin la última celda.\")"
   ]
  }
 ],
 "metadata": {
  "kernelspec": {
   "display_name": "Python 3",
   "language": "python",
   "name": "python3"
  },
  "language_info": {
   "codemirror_mode": {
    "name": "ipython",
    "version": 3
   },
   "file_extension": ".py",
   "mimetype": "text/x-python",
   "name": "python",
   "nbconvert_exporter": "python",
   "pygments_lexer": "ipython3",
   "version": "3.13.3"
  }
 },
 "nbformat": 4,
 "nbformat_minor": 5
}
